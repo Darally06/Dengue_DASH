{
 "cells": [
  {
   "cell_type": "markdown",
   "metadata": {},
   "source": [
    "# Modelo de clasificación"
   ]
  },
  {
   "cell_type": "markdown",
   "metadata": {},
   "source": [
    "## Ajustes iniciales"
   ]
  },
  {
   "cell_type": "code",
   "execution_count": null,
   "metadata": {},
   "outputs": [],
   "source": [
    "# Librerias\n",
    "# Estandar\n",
    "import time\n",
    "import os \n",
    "import warnings\n",
    "os.environ[\"LOKY_MAX_CPU_COUNT\"] = \"8\" \n",
    "os.makedirs(\"resultados/graficas\", exist_ok=True)\n",
    "\n",
    "# Visualizacion\n",
    "import matplotlib.pyplot as plt\n",
    "import seaborn as sns\n",
    "\n",
    "# Procesamiento\n",
    "import numpy as np\n",
    "import pandas as pd\n",
    "\n",
    "# Adicionales\n",
    "import time\n",
    "import lime\n",
    "import joblib"
   ]
  },
  {
   "cell_type": "code",
   "execution_count": null,
   "metadata": {},
   "outputs": [],
   "source": [
    "# Librerias de modelado\n",
    "# Escalado de numericas\n",
    "from sklearn.preprocessing import StandardScaler\n",
    "from sklearn.decomposition import PCA\n",
    "from sklearn.model_selection import train_test_split\n",
    "from sklearn.ensemble import RandomForestClassifier\n",
    "from sklearn.metrics import(\n",
    "    classification_report,\n",
    "    roc_auc_score, roc_curve,\n",
    "    confusion_matrix, ConfusionMatrixDisplay,\n",
    "    recall_score, precision_recall_curve,\n",
    "    average_precision_score\n",
    ")\n",
    "from imblearn.over_sampling import SMOTE\n",
    "from imblearn.pipeline import Pipeline\n"
   ]
  },
  {
   "cell_type": "code",
   "execution_count": null,
   "metadata": {},
   "outputs": [],
   "source": [
    "# Lectura de datos\n",
    "df = pd.read_csv(\"data/dengue.csv\")\n",
    "\n",
    "# Ajuste de tipos de datos\n",
    "# Tipo aseguradora y Evento (One-Hot Encoding)\n",
    "df = pd.get_dummies(df, columns=['TIP_SS', 'EVENTO'], drop_first=True)\n",
    "\n",
    "# Pais, municipio y departamento (Frecuencias)\n",
    "for col in ['PAIS_OCU', 'DPTO_OCU', 'MUN_OCU']:\n",
    "    freq = df[col].value_counts(normalize=True).to_dict()\n",
    "    df[col] = df[col].map(freq).fillna(0).astype('float64')\n",
    "\n",
    "scaler = StandardScaler()\n",
    "# Escalado de variables numéricas\n",
    "df['EDAD_AJUSTADA'] = scaler.fit_transform(df[['EDAD_AJUSTADA']])"
   ]
  },
  {
   "cell_type": "code",
   "execution_count": null,
   "metadata": {},
   "outputs": [],
   "source": [
    "# División de conjuntos de datos\n",
    "\n",
    "# Definir variable predictora y objetivo\n",
    "X = df.drop(columns=['confirmados'])\n",
    "y = df['confirmados'] \n",
    "\n",
    "# Division en train y test (60% train, 20% test, 20% validación)\n",
    "X_train, X_test, y_train, y_test = train_test_split(X, y, test_size=0.4, random_state=42, stratify=y)\n",
    "\n",
    "# Verificación de la división\n",
    "print(f\"Train: {X_train.shape}, Test: {X_test.shape}\")\n",
    "print(f\"Train: {y_train.shape}, Test: {y_test.shape}\")"
   ]
  },
  {
   "cell_type": "markdown",
   "metadata": {},
   "source": [
    "## Funciones"
   ]
  },
  {
   "cell_type": "code",
   "execution_count": null,
   "metadata": {},
   "outputs": [],
   "source": [
    "def plot_precision_recall_curve(y_test, y_proba, model_name):\n",
    "    precision, recall, _ = precision_recall_curve\n",
    "    ap_score = average_precision_score(y_test, y_proba)\n",
    "    \n",
    "    plt.figure(figsize=(6, 5))\n",
    "    plt.plot(recall, precision, label=f'AP = {ap_score:.2f}')\n",
    "    plt.xlabel('Recall')\n",
    "    plt.ylabel('Precision')\n",
    "    plt.title(f'Precision-Recall Curve - {model_name}')\n",
    "    plt.legend()\n",
    "    plt.grid(True)\n",
    "    plt.show()"
   ]
  },
  {
   "cell_type": "code",
   "execution_count": null,
   "metadata": {},
   "outputs": [],
   "source": [
    "# Función para graficar la curva ROC\n",
    "def plot_roc_curve(y_test, y_proba, model_name):\n",
    "    fpr, tpr, _ = roc_curve(y_test, y_proba)\n",
    "    roc_auc = roc_auc_score(y_test, y_proba)\n",
    "\n",
    "    plt.figure(figsize=(6, 4))\n",
    "    plt.plot(fpr, tpr, color='blue', lw=2, label=f'ROC curve (AUC = {roc_auc:.4f})')\n",
    "    plt.plot([0, 1], [0, 1], color='gray', linestyle='--')\n",
    "    plt.xlabel(\"False Positive Rate\")\n",
    "    plt.ylabel(\"True Positive Rate\")\n",
    "    plt.title(f\"Curva ROC - {model_name}\")\n",
    "    plt.legend(loc=\"lower right\")\n",
    "    plt.grid()\n",
    "    plt.show()"
   ]
  },
  {
   "cell_type": "code",
   "execution_count": null,
   "metadata": {},
   "outputs": [],
   "source": [
    "# Matriz de confusión\n",
    "def matriz_confusion(y_true, y_pred, model_name=\"Modelo\"):\n",
    "    cm = confusion_matrix(y_true, y_pred)\n",
    "    disp = ConfusionMatrixDisplay(confusion_matrix=cm)\n",
    "    plt.figure(figsize = (6, 4))\n",
    "    disp.plot(cmap=\"Blues\")\n",
    "    plt.title(f\"Matriz de Confusión - {model_name}\")\n",
    "    plt.grid(False)\n",
    "    plt.show()\n"
   ]
  },
  {
   "cell_type": "code",
   "execution_count": null,
   "metadata": {},
   "outputs": [],
   "source": [
    "# Evaluacion del gridsearch\n",
    "def evaluar(modelo, X_train, y_train, X_test, y_test, model_name=\"Modelo\", guardar=True):    \n",
    "\n",
    "    print(f\"Entrenando {model_name} ====\")\n",
    "\n",
    "    # Entrenamiento (Validación cruzada interna)\n",
    "    start_time = time.time()\n",
    "    modelo.fit(X_train, y_train)\n",
    "    end_time = time.time()\n",
    "    elapsed_time = end_time - start_time\n",
    "    print(f\"⏱️ Tiempo de entrenamiento: {elapsed_time:.2f} segundos\")\n",
    "\n",
    "    y_pred = modelo.predic(X_test)\n",
    "    y_proba = modelo.predict_proba(X_test)[:, 1]\n",
    "\n",
    "    # ==== TEXTO ====\n",
    "    print(\"\\n Classification Report:\")\n",
    "    report = classification_report(y_test, y_pred)\n",
    "    print(report)\n",
    "    if guardar:\n",
    "        with open(f\"class_report.txt\",\"w\") as f:\n",
    "            f.write(report)\n",
    "\n",
    "    # ==== METRICAS ====\n",
    "    recall = recall_score(y_test, y_pred)\n",
    "    auc = roc_auc_score(y_test, y_proba)\n",
    "    print(f\"Recall:{recall:.4f}\")\n",
    "\n",
    "\n",
    "\n",
    "\n",
    "    # Resultados del mejor modelo en CV (train) \n",
    "    print(f\"\\n Evaluación Cross-Validation de {model_name}\")\n",
    "    print(\"📍Mejores parámetros encontrados:\")\n",
    "    print(modelo.best_params_)\n",
    "\n",
    "    recall_cv = modelo.best_score_\n",
    "    print(f\"\\n Mejor Recall promedio en CV: {recall_cv:.4f}\")\n",
    "\n",
    "\n",
    "    # Evaluación en test\n",
    "    print(f\"\\n Evaluación en Test de {model_name}\")\n",
    "    y_pred = modelo.predict(X_test)\n",
    "\n",
    "    # Predicción de proba AUC y curva ROC\n",
    "    y_proba = None\n",
    "    if hasattr(modelo, \"predict_proba\"):\n",
    "        y_proba = modelo.predict_proba(X_test)[:, 1]\n",
    "    elif hasattr(modelo, \"decision_function\"):\n",
    "        y_proba = modelo.decision_function(X_test)\n",
    "\n",
    "    # Reporte de clasificación\n",
    "    print(\"\\n Classification Report (Test):\")\n",
    "    print(classification_report(y_test, y_pred))\n",
    "\n",
    "    # Metricas\n",
    "    recall_t = recall_score(y_test, y_pred)\n",
    "    print(f\" Recall (Test): {recall_t:.4f}\")\n",
    "    if y_proba is not None:\n",
    "        auc_t = roc_auc_score(y_test, y_proba)\n",
    "        print(f\" ROC AUC (Test): {auc_t:.4f}\")\n",
    "        plot_roc_curve(y_test, y_proba, model_name)\n",
    "        plot_precision_recall_curve(y_test, y_proba, model_name)\n",
    "    else:\n",
    "        auc_t = None\n",
    "        print(\"El modelo no soporta calculo de AUC\")\n",
    "        \n",
    "    # Comparación\n",
    "    print(f\"- Recall en Train: {recall_cv:.5f}\")\n",
    "    print(f\"- Recall en Test:  {recall_t:.5f}\")\n",
    "    print(f\"- Diferencia Recall {abs(recall_cv-recall_t):.4f}\")\n",
    "\n",
    "    # Matriz de confusión\n",
    "    print(\"\\n Matriz de Confusión\")\n",
    "    matriz_confusion(y_test, y_pred, model_name)\n",
    "    print(\"\\n --------------------------------\")\n",
    "    \n",
    "    "
   ]
  },
  {
   "cell_type": "code",
   "execution_count": null,
   "metadata": {},
   "outputs": [],
   "source": [
    "# Random Forest\n",
    "pipeline_rf = Pipeline([\n",
    "    ('smote', SMOTE(random_state=42)),\n",
    "    ('clf', RandomForestClassifier(\n",
    "        random_state=42,\n",
    "        class_weight='balanced'\n",
    "    ))\n",
    "])\n",
    "param_dist = {\n",
    "    'clf__n_estimators': [100, 200, 300],   # Arboles en el bosque\n",
    "    'clf__max_depth': [10, 20, None],       # Profundidad máxima\n",
    "    'clf__min_samples_split': [2, 5, 10],   # Número minimo de muestras\n",
    "}\n",
    "modelo_rf = RandomizedSearchCV(\n",
    "    pipeline_rf,\n",
    "    param_distributions=param_dist,\n",
    "    n_iter=10,\n",
    "    scoring='recall',\n",
    "    cv=3,\n",
    "    n_jobs=-1,\n",
    "    verbose=2,\n",
    ")"
   ]
  },
  {
   "cell_type": "code",
   "execution_count": null,
   "metadata": {},
   "outputs": [],
   "source": [
    "evaluar_gridsearch(modelo_rf,\n",
    "                   X_train, y_train,\n",
    "                   X_test, y_test,\n",
    "                   model_name= \"RandomForest\")"
   ]
  }
 ],
 "metadata": {
  "kernelspec": {
   "display_name": "Data_dengue",
   "language": "python",
   "name": "python3"
  },
  "language_info": {
   "name": "python",
   "version": "3.9.21"
  }
 },
 "nbformat": 4,
 "nbformat_minor": 5
}

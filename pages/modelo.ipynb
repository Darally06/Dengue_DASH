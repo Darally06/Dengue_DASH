{
 "cells": [
  {
   "cell_type": "markdown",
   "metadata": {},
   "source": [
    "# Modelo de clasificación"
   ]
  },
  {
   "cell_type": "markdown",
   "metadata": {},
   "source": [
    "## Ajustes iniciales"
   ]
  },
  {
   "cell_type": "code",
   "execution_count": 1,
   "metadata": {},
   "outputs": [],
   "source": [
    "# Librerias\n",
    "# Estandar\n",
    "import time\n",
    "import os \n",
    "import warnings\n",
    "os.environ[\"LOKY_MAX_CPU_COUNT\"] = \"8\" \n",
    "\n",
    "# Visualizacion\n",
    "import matplotlib.pyplot as plt\n",
    "import seaborn as sns\n",
    "\n",
    "# Procesamiento\n",
    "import numpy as np\n",
    "import pandas as pd\n",
    "\n",
    "# Adicionales\n",
    "import time\n",
    "import joblib"
   ]
  },
  {
   "cell_type": "code",
   "execution_count": 2,
   "metadata": {},
   "outputs": [],
   "source": [
    "# Librerias de modelado\n",
    "# Escalado de numericas\n",
    "from sklearn.preprocessing import StandardScaler\n",
    "from sklearn.decomposition import PCA\n",
    "from sklearn.model_selection import train_test_split\n",
    "from sklearn.ensemble import RandomForestClassifier\n",
    "from sklearn.metrics import(\n",
    "    classification_report,\n",
    "    roc_auc_score, roc_curve,\n",
    "    confusion_matrix, ConfusionMatrixDisplay,\n",
    "    recall_score, precision_recall_curve,\n",
    "    average_precision_score\n",
    ")\n",
    "from imblearn.over_sampling import SMOTE\n",
    "from imblearn.pipeline import Pipeline\n",
    "from lime.lime_tabular import LimeTabularExplainer"
   ]
  },
  {
   "cell_type": "code",
   "execution_count": 15,
   "metadata": {},
   "outputs": [],
   "source": [
    "# Lectura de datos\n",
    "df = pd.read_csv(r\"C:\\Users\\Hp\\VISUAL\\entrega_3\\data\\dengue.csv\") \n",
    "\n",
    "# Ajuste de tipos de datos\n",
    "# Tipo aseguradora y Evento (One-Hot Encoding)\n",
    "df = pd.get_dummies(df, columns=['TIP_SS', 'EVENTO'], drop_first=True)\n",
    "\n",
    "# Pais, municipio y departamento (Frecuencias)\n",
    "for col in ['PAIS_OCU', 'DPTO_OCU', 'MUN_OCU']:\n",
    "    freq = df[col].value_counts(normalize=True).to_dict()\n",
    "    df[col] = df[col].map(freq).fillna(0).astype('float64')\n",
    "\n",
    "scaler = StandardScaler()\n",
    "# Escalado de variables numéricas\n",
    "df['EDAD_AJUSTADA'] = scaler.fit_transform(df[['EDAD_AJUSTADA']])"
   ]
  },
  {
   "cell_type": "code",
   "execution_count": 17,
   "metadata": {},
   "outputs": [
    {
     "name": "stdout",
     "output_type": "stream",
     "text": [
      "Train: (568368, 20), Test: (378912, 20)\n",
      "Train: (568368,), Test: (378912,)\n"
     ]
    }
   ],
   "source": [
    "# División de conjuntos de datos\n",
    "\n",
    "# Definir variable predictora y objetivo\n",
    "X = df.drop(columns=['CONFIRMADOS'])\n",
    "y = df['CONFIRMADOS'] \n",
    "\n",
    "# Division en train y test (60% train, 20% test, 20% validación)\n",
    "X_train, X_test, y_train, y_test = train_test_split(X, y, test_size=0.4, random_state=42, stratify=y)\n",
    "\n",
    "# Verificación de la división\n",
    "print(f\"Train: {X_train.shape}, Test: {X_test.shape}\")\n",
    "print(f\"Train: {y_train.shape}, Test: {y_test.shape}\")"
   ]
  },
  {
   "cell_type": "markdown",
   "metadata": {},
   "source": [
    "## Funciones"
   ]
  },
  {
   "cell_type": "code",
   "execution_count": 18,
   "metadata": {},
   "outputs": [],
   "source": [
    "def plot_precision_recall_curve(y_test, y_proba, model_name, guardar=False):\n",
    "    precision, recall, _ = precision_recall_curve(y_test, y_proba)\n",
    "    ap_score = average_precision_score(y_test, y_proba)\n",
    "    \n",
    "    plt.figure(figsize=(6, 4))\n",
    "    plt.plot(recall, precision, label=f'AP = {ap_score:.2f}')\n",
    "    plt.xlabel('Recall')\n",
    "    plt.ylabel('Precision')\n",
    "    plt.title(f'Precision-Recall Curve - {model_name}')\n",
    "    plt.legend()\n",
    "    plt.grid(True)\n",
    "    if guardar:\n",
    "        ruta = \"resultados/graficas/press_recall.png\"\n",
    "        plt.savefig(ruta, bbox_inches='tight')\n",
    "    plt.show()\n"
   ]
  },
  {
   "cell_type": "code",
   "execution_count": 19,
   "metadata": {},
   "outputs": [],
   "source": [
    "# Función para graficar la curva ROC\n",
    "def plot_roc_curve(y_test, y_proba, model_name, guardar=False):\n",
    "    fpr, tpr, _ = roc_curve(y_test, y_proba)\n",
    "    roc_auc = roc_auc_score(y_test, y_proba)\n",
    "\n",
    "    plt.figure(figsize=(6, 4))\n",
    "    plt.plot(fpr, tpr, color='blue', lw=2, label=f'ROC curve (AUC = {roc_auc:.4f})')\n",
    "    plt.plot([0, 1], [0, 1], color='gray', linestyle='--')\n",
    "    plt.xlabel(\"False Positive Rate\")\n",
    "    plt.ylabel(\"True Positive Rate\")\n",
    "    plt.title(f\"Curva ROC - {model_name}\")\n",
    "    plt.legend(loc=\"lower right\")\n",
    "    plt.grid()\n",
    "    if guardar:\n",
    "        ruta = \"resultados/graficas/ROC_AUC.png\"\n",
    "        plt.savefig(ruta, bbox_inches='tight')\n",
    "    plt.show()"
   ]
  },
  {
   "cell_type": "code",
   "execution_count": 20,
   "metadata": {},
   "outputs": [],
   "source": [
    "# Matriz de confusión\n",
    "def matriz_confusion(y_true, y_pred, model_name=\"Modelo\", guardar=False):\n",
    "    cm = confusion_matrix(y_true, y_pred)\n",
    "    disp = ConfusionMatrixDisplay(confusion_matrix=cm)\n",
    "    plt.figure(figsize = (6, 4))\n",
    "    disp.plot(cmap=\"Blues\")\n",
    "    plt.title(f\"Matriz de Confusión - {model_name}\")\n",
    "    plt.grid(False)\n",
    "    if guardar:\n",
    "        ruta = \"resultados/graficas/matriz_confusion.png\"\n",
    "        plt.savefig(ruta, bbox_inches='tight')\n",
    "    plt.show()\n"
   ]
  },
  {
   "cell_type": "code",
   "execution_count": 21,
   "metadata": {},
   "outputs": [],
   "source": [
    "def plot_feature_importance(model, X_train, model_name=\"Modelo\", guardar=False):\n",
    "    importances = model.named_steps['clf'].feature_importances_\n",
    "    feature_names = X_train.columns\n",
    "    feat_imp_df = pd.DataFrame({'feature': feature_names, 'importance': importances})\n",
    "    feat_imp_df = feat_imp_df.sort_values(by='importance', ascending=False)\n",
    "\n",
    "    plt.figure(figsize=(6, 4))\n",
    "    sns.barplot(data=feat_imp_df, x='importance', y='feature', palette='viridis')\n",
    "    plt.title(f'Importancia de Variables - {model_name}')\n",
    "    plt.tight_layout()\n",
    "    if guardar:\n",
    "        ruta = \"resultados/graficas/feat_importance.png\"\n",
    "        plt.savefig(ruta, bbox_inches='tight')\n",
    "    plt.show()"
   ]
  },
  {
   "cell_type": "code",
   "execution_count": 22,
   "metadata": {},
   "outputs": [],
   "source": [
    "def lime_explanation(model, X_train, X_test, model_name=\"Modelo\", guardar=False, index=0):\n",
    "    explainer = LimeTabularExplainer(\n",
    "        training_data=X_train.values,\n",
    "        feature_names=X_train.columns.tolist(),\n",
    "        class_names=[\"No\", \"Sí\"],\n",
    "        mode=\"classification\"\n",
    "    )\n",
    "    exp = explainer.explain_instance(X_test.iloc[index].values, model.predict_proba, num_features=10)\n",
    "    fig = exp.as_pyplot_figure()\n",
    "    fig.suptitle(f\"LIME Explanation - {model_name} - Obs {index}\", fontsize=12)\n",
    "    if guardar:\n",
    "        ruta = f\"resultados/graficas/lime_explanation.png\"\n",
    "        fig.savefig(ruta, bbox_inches='tight')\n",
    "    plt.show()"
   ]
  },
  {
   "cell_type": "code",
   "execution_count": 23,
   "metadata": {},
   "outputs": [],
   "source": [
    "# Evaluacion del gridsearch\n",
    "def evaluar(modelo, X_train, y_train, X_test, y_test, model_name= \"Modelo\", guardar=True):    \n",
    "\n",
    "    print(f\"Entrenando {model_name} ====\")\n",
    "\n",
    "    if guardar:\n",
    "        os.makedirs(\"resultados/graficas\", exist_ok=True)\n",
    "        os.makedirs(\"resultados/modelos\", exist_ok=True)\n",
    "        \n",
    "    # Entrenamiento (Validación cruzada interna)\n",
    "    start_time = time.time()\n",
    "    modelo.fit(X_train, y_train)\n",
    "    end_time = time.time()\n",
    "    print(f\"⏱️ Tiempo de entrenamiento: {end_time - start_time:.2f} segundos\")\n",
    "\n",
    "    y_pred = modelo.predict(X_test)\n",
    "    y_proba = modelo.predict_proba(X_test)[:, 1]\n",
    "\n",
    "    # ==== TEXTO ====\n",
    "    print(\"\\n Classification Report:\")\n",
    "    report = classification_report(y_test, y_pred)\n",
    "    print(report)\n",
    "    if guardar:\n",
    "        with open(f\"class_report.txt\",\"w\") as f:\n",
    "            f.write(report)\n",
    "\n",
    "    # ==== METRICAS ====\n",
    "    recall = recall_score(y_test, y_pred)\n",
    "    auc = roc_auc_score(y_test, y_proba)\n",
    "    print(f\"Recall:{recall:.4f}\")\n",
    "    print(f\"ROC AUC: {auc:.4f}\")\n",
    "\n",
    "    # ==== Graficos ====\n",
    "    plot_roc_curve(y_test, y_proba, model_name, guardar=guardar)\n",
    "    plot_precision_recall_curve(y_test, y_proba, model_name, guardar=guardar)\n",
    "    matriz_confusion(y_test, y_pred, model_name, guardar=guardar)\n",
    "    plot_feature_importance(modelo, X_train, model_name, guardar=guardar)\n",
    "    lime_explanation(modelo, X_train, X_test, model_name, guardar=guardar)\n",
    "\n",
    "    # === Guardar modelo ===\n",
    "    if guardar:\n",
    "        path = \"resultados/modelos/random_forest.pkl\"\n",
    "        joblib.dump(modelo, path)\n",
    "        print(f\"\\n📁 Modelo guardado como: {path}\")\n",
    "    print(\"\\n --------------------------------\")\n",
    "    \n",
    "    "
   ]
  },
  {
   "cell_type": "markdown",
   "metadata": {},
   "source": [
    "## Modelo"
   ]
  },
  {
   "cell_type": "code",
   "execution_count": 10,
   "metadata": {},
   "outputs": [],
   "source": [
    "# Random Forest\n",
    "pipeline_rf = Pipeline([\n",
    "    ('smote', SMOTE(random_state=42)),\n",
    "    ('clf', RandomForestClassifier(\n",
    "        random_state=42,\n",
    "        class_weight='balanced'\n",
    "    ))\n",
    "])\n",
    "param_dist = {\n",
    "    'clf__n_estimators': [100, 200, 300],   # Arboles en el bosque\n",
    "    'clf__max_depth': [10, 20, None],       # Profundidad máxima\n",
    "    'clf__min_samples_split': [2, 5, 10],   # Número minimo de muestras\n",
    "}"
   ]
  },
  {
   "cell_type": "code",
   "execution_count": 11,
   "metadata": {},
   "outputs": [
    {
     "ename": "NameError",
     "evalue": "name 'X_train' is not defined",
     "output_type": "error",
     "traceback": [
      "\u001b[1;31m---------------------------------------------------------------------------\u001b[0m",
      "\u001b[1;31mNameError\u001b[0m                                 Traceback (most recent call last)",
      "Cell \u001b[1;32mIn[11], line 3\u001b[0m\n\u001b[0;32m      1\u001b[0m evaluar(\n\u001b[0;32m      2\u001b[0m     pipeline_rf, \n\u001b[1;32m----> 3\u001b[0m     \u001b[43mX_train\u001b[49m, y_train, \n\u001b[0;32m      4\u001b[0m     X_test, y_test, \n\u001b[0;32m      5\u001b[0m     model_name\u001b[38;5;241m=\u001b[39m\u001b[38;5;124m\"\u001b[39m\u001b[38;5;124mRandom Forest\u001b[39m\u001b[38;5;124m\"\u001b[39m)\n",
      "\u001b[1;31mNameError\u001b[0m: name 'X_train' is not defined"
     ]
    }
   ],
   "source": [
    "evaluar(\n",
    "    pipeline_rf, \n",
    "    X_train, y_train, \n",
    "    X_test, y_test, \n",
    "    model_name=\"Random Forest\")\n"
   ]
  }
 ],
 "metadata": {
  "kernelspec": {
   "display_name": "Data_dengue",
   "language": "python",
   "name": "python3"
  },
  "language_info": {
   "codemirror_mode": {
    "name": "ipython",
    "version": 3
   },
   "file_extension": ".py",
   "mimetype": "text/x-python",
   "name": "python",
   "nbconvert_exporter": "python",
   "pygments_lexer": "ipython3",
   "version": "3.9.21"
  }
 },
 "nbformat": 4,
 "nbformat_minor": 5
}
